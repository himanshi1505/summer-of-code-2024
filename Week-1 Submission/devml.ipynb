{
  "cells": [
    {
      "cell_type": "code",
      "execution_count": null,
      "metadata": {
        "id": "cyaIxvY1VO6f"
      },
      "outputs": [],
      "source": [
        "!pip install -q kaggle # install kaggle api client"
      ]
    },
    {
      "cell_type": "code",
      "execution_count": null,
      "metadata": {
        "colab": {
          "base_uri": "https://localhost:8080/"
        },
        "id": "fGaU_qLlVSr3",
        "outputId": "eef1fff3-d3d3-4019-b49f-5f4c052a72b6"
      },
      "outputs": [],
      "source": [
        "!mkdir -p ~/.kaggle\n",
        "!cp kaggle.json ~/.kaggle/"
      ]
    },
    {
      "cell_type": "code",
      "execution_count": null,
      "metadata": {
        "colab": {
          "base_uri": "https://localhost:8080/"
        },
        "id": "_a4glLECVcXj",
        "outputId": "24da2fae-0f5b-4086-c883-aa08e14f8296"
      },
      "outputs": [],
      "source": [
        "!chmod 600 ~/.kaggle/kaggle.json\n"
      ]
    },
    {
      "cell_type": "code",
      "execution_count": null,
      "metadata": {
        "colab": {
          "base_uri": "https://localhost:8080/"
        },
        "id": "WLBYRoJEWSTY",
        "outputId": "c3e8052e-3dec-4001-b3c2-b6ef0806a67a"
      },
      "outputs": [],
      "source": [
        "!kaggle datasets list\n",
        "!kaggle datasets download -d rupakroy/online-payments-fraud-detection-dataset"
      ]
    },
    {
      "cell_type": "code",
      "execution_count": null,
      "metadata": {
        "colab": {
          "base_uri": "https://localhost:8080/"
        },
        "id": "lZdyGwbjcXVO",
        "outputId": "cdb259d6-5790-4c65-d016-d6be4ba64841"
      },
      "outputs": [],
      "source": [
        "!unzip online-payments-fraud-detection-dataset.zip"
      ]
    },
    {
      "cell_type": "code",
      "execution_count": null,
      "metadata": {
        "id": "2pKrBNuzW8g7"
      },
      "outputs": [],
      "source": [
        "import pandas as pd\n",
        "import numpy as np\n",
        "import matplotlib.pyplot as plt\n",
        "import seaborn as sns"
      ]
    },
    {
      "cell_type": "markdown",
      "metadata": {
        "id": "sDRy1HmrupHb"
      },
      "source": [
        "load dataset"
      ]
    },
    {
      "cell_type": "code",
      "execution_count": null,
      "metadata": {
        "id": "nKadJDY7urEB"
      },
      "outputs": [],
      "source": [
        "df = pd.read_csv('PS_20174392719_1491204439457_log.csv')"
      ]
    },
    {
      "cell_type": "code",
      "execution_count": null,
      "metadata": {
        "colab": {
          "base_uri": "https://localhost:8080/",
          "height": 443
        },
        "id": "gJSGRzu-XVOk",
        "outputId": "7dfffaf9-2a80-48ad-d90c-610128286a50"
      },
      "outputs": [],
      "source": [
        "df"
      ]
    },
    {
      "cell_type": "markdown",
      "metadata": {
        "id": "-9K3Wtf_bbrD"
      },
      "source": [
        "eda"
      ]
    },
    {
      "cell_type": "code",
      "execution_count": null,
      "metadata": {
        "id": "dJc5bqb-blGf"
      },
      "outputs": [],
      "source": [
        "df[\"nameOrig_type\"]=df[\"nameOrig\"].str[:1]"
      ]
    },
    {
      "cell_type": "code",
      "execution_count": null,
      "metadata": {
        "colab": {
          "base_uri": "https://localhost:8080/",
          "height": 443
        },
        "id": "wLyge2BKiVY0",
        "outputId": "f7134357-c64e-4187-e1a9-c83ea30d217c"
      },
      "outputs": [],
      "source": [
        "df"
      ]
    },
    {
      "cell_type": "code",
      "execution_count": null,
      "metadata": {
        "id": "ntf12G-2ik8E"
      },
      "outputs": [],
      "source": [
        "df=df.drop(columns=[\"nameOrig\",\"nameOrig_type\"])"
      ]
    },
    {
      "cell_type": "code",
      "execution_count": null,
      "metadata": {
        "id": "WefQipgZi5bf"
      },
      "outputs": [],
      "source": [
        "df[\"nameDest_type\"]=df[\"nameDest\"].str[:1]"
      ]
    },
    {
      "cell_type": "code",
      "execution_count": null,
      "metadata": {
        "colab": {
          "base_uri": "https://localhost:8080/",
          "height": 443
        },
        "id": "zdwgzUJBjDp0",
        "outputId": "645d0502-a9f7-4ae6-c12a-2d12720e69cd"
      },
      "outputs": [],
      "source": [
        "df"
      ]
    },
    {
      "cell_type": "markdown",
      "metadata": {
        "id": "keTA8ARImnYi"
      },
      "source": [
        "one hot encoding\n"
      ]
    },
    {
      "cell_type": "code",
      "execution_count": null,
      "metadata": {
        "id": "PigFsd_51KYP"
      },
      "outputs": [],
      "source": [
        "one_hot = pd.get_dummies(df[['nameDest_type', 'type']]) # Select multiple columns using a list within square brackets\n",
        "df = df.drop([\"nameDest_type\", \"type\"], axis=1) # Pass columns to drop as a list\n",
        "df = df.join(one_hot)"
      ]
    },
    {
      "cell_type": "code",
      "execution_count": null,
      "metadata": {
        "colab": {
          "base_uri": "https://localhost:8080/",
          "height": 443
        },
        "id": "v4mpmrYPmYSo",
        "outputId": "1b8d404e-21d0-472a-e917-c49aedb297ca"
      },
      "outputs": [],
      "source": [
        "df"
      ]
    },
    {
      "cell_type": "code",
      "execution_count": null,
      "metadata": {
        "id": "ZgAHCCV-1-q7"
      },
      "outputs": [],
      "source": [
        "df = df.drop([\"nameDest\"], axis=1)"
      ]
    },
    {
      "cell_type": "markdown",
      "metadata": {
        "id": "7ES2yHlymjGQ"
      },
      "source": [
        "normalization"
      ]
    },
    {
      "cell_type": "code",
      "execution_count": null,
      "metadata": {
        "id": "-1_CGa69mZHG"
      },
      "outputs": [],
      "source": [
        "def norm_column(df,col):\n",
        "  df[col]=(df[col]-df[col].min())/(df[col].max()-df[col].min())\n"
      ]
    },
    {
      "cell_type": "code",
      "execution_count": null,
      "metadata": {
        "id": "uLJ3KLrhnlVO"
      },
      "outputs": [],
      "source": [
        "norm_cols=[\n",
        "    \"step\",\n",
        "    \"amount\",\n",
        "    \"oldbalanceOrg\",\n",
        "    \"newbalanceOrig\",\n",
        "    \"oldbalanceDest\",\n",
        "    \"newbalanceDest\"\n",
        "]"
      ]
    },
    {
      "cell_type": "code",
      "execution_count": null,
      "metadata": {
        "id": "8a_PoNx9nvD6"
      },
      "outputs": [],
      "source": [
        "for col in norm_cols:\n",
        "  norm_column(df,col)"
      ]
    },
    {
      "cell_type": "code",
      "execution_count": null,
      "metadata": {
        "id": "rssyuMAaIITY"
      },
      "outputs": [],
      "source": [
        "df_isFraud=df[df[\"isFraud\"]==1]\n",
        "df_isnotFraud=df[df[\"isFraud\"]==0]\n"
      ]
    },
    {
      "cell_type": "code",
      "execution_count": null,
      "metadata": {
        "colab": {
          "base_uri": "https://localhost:8080/",
          "height": 443
        },
        "id": "k0IDIX2Dozeg",
        "outputId": "23d6f912-bdd7-43f1-dd8f-902cb204eb60"
      },
      "outputs": [],
      "source": [
        "df_isFraud"
      ]
    },
    {
      "cell_type": "markdown",
      "metadata": {
        "id": "CfgCGqzyUrR2"
      },
      "source": [
        "undersampling(balancing)"
      ]
    },
    {
      "cell_type": "code",
      "execution_count": null,
      "metadata": {
        "id": "4KG7KFWGobg4"
      },
      "outputs": [],
      "source": [
        "df_isnotfraud=df_isnotFraud.sample(n=8213, random_state=42)"
      ]
    },
    {
      "cell_type": "code",
      "execution_count": null,
      "metadata": {
        "colab": {
          "base_uri": "https://localhost:8080/",
          "height": 443
        },
        "id": "qIJ-q1lKlXKD",
        "outputId": "095971c8-a0af-427d-a4d1-e78a1689edbd"
      },
      "outputs": [],
      "source": [
        "df_isnotfraud"
      ]
    },
    {
      "cell_type": "code",
      "execution_count": null,
      "metadata": {
        "id": "aJTDL40NlqLw"
      },
      "outputs": [],
      "source": [
        "df=pd.concat([df_isFraud,df_isnotfraud])"
      ]
    },
    {
      "cell_type": "code",
      "execution_count": null,
      "metadata": {
        "colab": {
          "base_uri": "https://localhost:8080/",
          "height": 443
        },
        "id": "f-8qbrMml1Hn",
        "outputId": "b22208b3-caaa-46dd-988a-73c08976dccb"
      },
      "outputs": [],
      "source": [
        "df"
      ]
    },
    {
      "cell_type": "code",
      "execution_count": null,
      "metadata": {
        "colab": {
          "base_uri": "https://localhost:8080/"
        },
        "id": "mGioyem2mOeJ",
        "outputId": "090ee10f-74b0-459d-eed8-fbbb6c381944"
      },
      "outputs": [],
      "source": [
        "# prompt: split data\n",
        "\n",
        "from sklearn.model_selection import train_test_split\n",
        "\n",
        "# Separate features and target\n",
        "X = df.drop('isFraud', axis=1)\n",
        "y = df['isFraud']\n",
        "\n",
        "# Split data into train and test sets\n",
        "X_train, X_test, y_train, y_test = train_test_split(X, y, test_size=0.2, random_state=42)\n",
        "\n",
        "# Print the shapes of the train and test sets\n",
        "print('X_train shape:', X_train.shape)\n",
        "print('y_train shape:', y_train.shape)\n",
        "print('X_test shape:', X_test.shape)\n",
        "print('y_test shape:', y_test.shape)\n"
      ]
    },
    {
      "cell_type": "code",
      "execution_count": null,
      "metadata": {
        "colab": {
          "base_uri": "https://localhost:8080/"
        },
        "id": "jj0ewpD_u-9D",
        "outputId": "d864a203-02dc-4390-f62e-d0229edda1a8"
      },
      "outputs": [],
      "source": [
        "import lightgbm as lgb\n",
        "from sklearn.metrics import precision_score\n",
        "from sklearn.metrics import recall_score\n",
        "clf = lgb.LGBMClassifier()\n",
        "\n",
        "clf.fit(X_train, y_train)\n",
        "y_pred=clf.predict(X_test)\n",
        "X_pred=clf.predict(X_train)\n",
        "from sklearn.metrics import accuracy_score\n",
        "accuracy_test = accuracy_score(y_test,y_pred)\n",
        "print('\\naccuracy_score on test dataset : ', accuracy_test)\n",
        "precision_test = precision_score(y_test,y_pred)\n",
        "print('\\nprecision_score on test dataset : ', precision_test)\n",
        "accuracy_test = accuracy_score(y_train,X_pred)\n",
        "print('\\naccuracy_score on train dataset : ', accuracy_test)\n",
        "recall_test = recall_score(y_test,y_pred)\n",
        "print('\\nrecall_score on test dataset : ', recall_test)\n"
      ]
    },
    {
      "cell_type": "markdown",
      "metadata": {
        "id": "4vOmVWRnvZXo"
      },
      "source": [
        "confusion metrix"
      ]
    },
    {
      "cell_type": "code",
      "execution_count": null,
      "metadata": {
        "colab": {
          "base_uri": "https://localhost:8080/",
          "height": 447
        },
        "id": "JD4UZzHRu45N",
        "outputId": "680374b2-89bb-4285-bf39-0cdf7fff1fa9"
      },
      "outputs": [],
      "source": [
        "from sklearn.metrics import confusion_matrix\n",
        "conmat = confusion_matrix(y_test, y_pred)\n",
        "import matplotlib.pyplot as plt\n",
        "val = np.mat(conmat)\n",
        "\n",
        "classnames = list(set(y_train))\n",
        "\n",
        "df_cm = pd.DataFrame(\n",
        "\n",
        "        val, index=classnames, columns=classnames,\n",
        "\n",
        "    )\n",
        "\n",
        "import seaborn as sns\n",
        "\n",
        "plt.figure()\n",
        "\n",
        "heatmap = sns.heatmap(df_cm, annot=True, cmap=\"Blues\")\n",
        "\n",
        "heatmap.yaxis.set_ticklabels(heatmap.yaxis.get_ticklabels(), rotation=0, ha='right')\n",
        "\n",
        "heatmap.xaxis.set_ticklabels(heatmap.xaxis.get_ticklabels(), rotation=0, ha='right')"
      ]
    },
    {
      "cell_type": "code",
      "execution_count": null,
      "metadata": {
        "colab": {
          "base_uri": "https://localhost:8080/",
          "height": 1000
        },
        "id": "GrVYNwDVqiOd",
        "outputId": "6e51c026-b9b5-454b-b9fc-adb18d5973fd"
      },
      "outputs": [],
      "source": [
        "# plot\n",
        "\n",
        "from matplotlib import pyplot as plt\n",
        "# Plot feature importance using Gain\n",
        "lgb.plot_importance(clf, importance_type=\"gain\", figsize=(7,6), title=\"LightGBM Feature Importance (Gain)\")\n",
        "plt.show()\n",
        "# Plot feature importance using Split\n",
        "lgb.plot_importance(clf, importance_type=\"split\", figsize=(7,6), title=\"LightGBM Feature Importance (Split)\")\n",
        "plt.show()\n"
      ]
    },
    {
      "cell_type": "code",
      "execution_count": null,
      "metadata": {
        "colab": {
          "base_uri": "https://localhost:8080/",
          "height": 1000
        },
        "id": "WE6zoR8Mxtmg",
        "outputId": "11ad80ff-69a7-44bf-f395-512f6b5c3995"
      },
      "outputs": [],
      "source": [
        "!pip install shap\n",
        "import shap\n",
        "%time shap_values = shap.TreeExplainer(clf).shap_values(X_test)\n",
        "shap.summary_plot(shap_values, X_test)\n",
        "shap.dependence_plot(\"oldbalanceOrg\", shap_values, X_test)\n",
        "shap.dependence_plot(\"newbalanceOrig\", shap_values,X_test )\n",
        "shap.dependence_plot(\"nameDest_type_C\", shap_values,X_test)\n",
        "shap.dependence_plot(\"newbalanceDest\", shap_values,X_test)\n",
        "shap.dependence_plot(\"amount\", shap_values,X_test)\n",
        "shap.dependence_plot(\"type_TRANSFER\", shap_values,X_test)\n",
        "shap.dependence_plot(\"type_CASH_OUT\", shap_values,X_test)"
      ]
    },
    {
      "cell_type": "code",
      "execution_count": null,
      "metadata": {},
      "outputs": [],
      "source": [
        "import joblib\n",
        "\n",
        "# Specify the file path where you want to save the model\n",
        "model_path = 'model.pkl'\n",
        "\n",
        "# Save the model to the specified file path\n",
        "joblib.dump(clf, model_path)\n"
      ]
    }
  ],
  "metadata": {
    "colab": {
      "provenance": [],
      "toc_visible": true
    },
    "kernelspec": {
      "display_name": "Python 3",
      "name": "python3"
    },
    "language_info": {
      "codemirror_mode": {
        "name": "ipython",
        "version": 3
      },
      "file_extension": ".py",
      "mimetype": "text/x-python",
      "name": "python",
      "nbconvert_exporter": "python",
      "pygments_lexer": "ipython3",
      "version": "3.9.6"
    }
  },
  "nbformat": 4,
  "nbformat_minor": 0
}
